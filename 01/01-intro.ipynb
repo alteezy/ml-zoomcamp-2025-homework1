{
 "cells": [
  {
   "cell_type": "markdown",
   "id": "1",
   "metadata": {},
   "source": [
    "# Machine Learning Zoomcamp - Homework 1\n",
    "\n",
    "This notebook contains solutions to the homework questions from the ML Zoomcamp course."
   ]
  },
  {
   "cell_type": "markdown",
   "id": "szzomro9tm",
   "metadata": {},
   "source": [
    "## Question 1: Pandas Version\n",
    "\n",
    "What's the version of Pandas that you installed?"
   ]
  },
  {
   "cell_type": "code",
   "execution_count": 1,
   "id": "13c4fzr9ozif",
   "metadata": {},
   "outputs": [
    {
     "name": "stdout",
     "output_type": "stream",
     "text": [
      "Pandas version: 2.2.2\n"
     ]
    }
   ],
   "source": [
    "import pandas as pd\n",
    "print(f\"Pandas version: {pd.__version__}\")"
   ]
  },
  {
   "cell_type": "markdown",
   "id": "9fif1lkbfrh",
   "metadata": {},
   "source": [
    "## Question 2: Records Count\n",
    "\n",
    "How many records are in the dataset?"
   ]
  },
  {
   "cell_type": "code",
   "execution_count": 2,
   "id": "8mi21wz2f1",
   "metadata": {},
   "outputs": [
    {
     "name": "stdout",
     "output_type": "stream",
     "text": [
      "Number of records: 9704\n",
      "Dataset shape: (9704, 11)\n"
     ]
    }
   ],
   "source": [
    "# Load the dataset\n",
    "url = 'https://raw.githubusercontent.com/alexeygrigorev/datasets/master/car_fuel_efficiency.csv'\n",
    "df = pd.read_csv(url)\n",
    "\n",
    "# Get the number of records\n",
    "num_records = len(df)\n",
    "print(f\"Number of records: {num_records}\")\n",
    "print(f\"Dataset shape: {df.shape}\")"
   ]
  },
  {
   "cell_type": "markdown",
   "id": "dwc3rh4gafo",
   "metadata": {},
   "source": [
    "## Question 3: Fuel Types\n",
    "\n",
    "How many fuel types are presented in the dataset?"
   ]
  },
  {
   "cell_type": "code",
   "execution_count": 3,
   "id": "pdks7c902ml",
   "metadata": {},
   "outputs": [
    {
     "name": "stdout",
     "output_type": "stream",
     "text": [
      "Column names:\n",
      "['engine_displacement', 'num_cylinders', 'horsepower', 'vehicle_weight', 'acceleration', 'model_year', 'origin', 'fuel_type', 'drivetrain', 'num_doors', 'fuel_efficiency_mpg']\n",
      "\n",
      "Fuel-related columns: ['fuel_type', 'fuel_efficiency_mpg']\n",
      "\n",
      "Number of unique fuel types: 2\n",
      "Fuel types: ['Gasoline' 'Diesel']\n"
     ]
    }
   ],
   "source": [
    "# Check the fuel type column (assuming it's named 'fuel_type' or similar)\n",
    "# First, let's see the column names\n",
    "print(\"Column names:\")\n",
    "print(df.columns.tolist())\n",
    "print()\n",
    "\n",
    "# Look for fuel-related columns\n",
    "fuel_columns = [col for col in df.columns if 'fuel' in col.lower()]\n",
    "print(f\"Fuel-related columns: {fuel_columns}\")\n",
    "print()\n",
    "\n",
    "# Assuming the fuel type column exists, count unique values\n",
    "if fuel_columns:\n",
    "    fuel_col = fuel_columns[0]  # Take the first fuel-related column\n",
    "    unique_fuel_types = df[fuel_col].nunique()\n",
    "    print(f\"Number of unique fuel types: {unique_fuel_types}\")\n",
    "    print(f\"Fuel types: {df[fuel_col].unique()}\")\n",
    "else:\n",
    "    print(\"No fuel-related column found. Let's check all columns for possible fuel data:\")"
   ]
  },
  {
   "cell_type": "markdown",
   "id": "8vtzqwsll3w",
   "metadata": {},
   "source": [
    "## Question 4: Missing Values\n",
    "\n",
    "How many columns have missing values?"
   ]
  },
  {
   "cell_type": "code",
   "execution_count": 4,
   "id": "yjmm5uztcad",
   "metadata": {},
   "outputs": [
    {
     "name": "stdout",
     "output_type": "stream",
     "text": [
      "Missing values per column:\n",
      "engine_displacement      0\n",
      "num_cylinders          482\n",
      "horsepower             708\n",
      "vehicle_weight           0\n",
      "acceleration           930\n",
      "model_year               0\n",
      "origin                   0\n",
      "fuel_type                0\n",
      "drivetrain               0\n",
      "num_doors              502\n",
      "fuel_efficiency_mpg      0\n",
      "dtype: int64\n",
      "\n",
      "Number of columns with missing values: 4\n",
      "Columns with missing values: ['num_cylinders', 'horsepower', 'acceleration', 'num_doors']\n"
     ]
    }
   ],
   "source": [
    "# Check for missing values in each column\n",
    "missing_values = df.isnull().sum()\n",
    "print(\"Missing values per column:\")\n",
    "print(missing_values)\n",
    "print()\n",
    "\n",
    "# Count how many columns have missing values\n",
    "columns_with_missing = (missing_values > 0).sum()\n",
    "print(f\"Number of columns with missing values: {columns_with_missing}\")\n",
    "\n",
    "# Show which columns have missing values\n",
    "columns_with_missing_names = missing_values[missing_values > 0]\n",
    "if len(columns_with_missing_names) > 0:\n",
    "    print(f\"Columns with missing values: {list(columns_with_missing_names.index)}\")\n",
    "else:\n",
    "    print(\"No columns have missing values\")"
   ]
  },
  {
   "cell_type": "markdown",
   "id": "ilry4bcyu2",
   "metadata": {},
   "source": [
    "## Question 5: Max Fuel Efficiency\n",
    "\n",
    "What's the maximum fuel efficiency of cars from Asia?"
   ]
  },
  {
   "cell_type": "code",
   "execution_count": 5,
   "id": "bbkgaflbn4d",
   "metadata": {},
   "outputs": [
    {
     "name": "stdout",
     "output_type": "stream",
     "text": [
      "Number of cars from Asia: 3247\n",
      "Maximum fuel efficiency for Asian cars: 23.759122836520497\n",
      "Mean fuel efficiency for Asian cars: 14.97\n",
      "All Asian cars fuel efficiency values:\n",
      "9387    23.759123\n",
      "343     23.204566\n",
      "7739    23.033673\n",
      "9401    22.919968\n",
      "5416    22.858156\n",
      "9654    22.709442\n",
      "1854    22.592785\n",
      "7505    22.507648\n",
      "9340    22.489480\n",
      "8647    22.487174\n",
      "Name: fuel_efficiency_mpg, dtype: float64\n"
     ]
    }
   ],
   "source": [
    "# Filter for Asian cars and find maximum fuel efficiency\n",
    "# Using the specific column names from the dataset\n",
    "\n",
    "# Filter for cars from Asia\n",
    "asia_cars = df[df['origin'] == 'Asia']\n",
    "print(f\"Number of cars from Asia: {len(asia_cars)}\")\n",
    "\n",
    "# Find the maximum fuel efficiency for Asian cars\n",
    "max_efficiency_asia = asia_cars['fuel_efficiency_mpg'].max()\n",
    "print(f\"Maximum fuel efficiency for Asian cars: {max_efficiency_asia}\")\n",
    "\n",
    "# Show some additional info\n",
    "print(f\"Mean fuel efficiency for Asian cars: {asia_cars['fuel_efficiency_mpg'].mean():.2f}\")\n",
    "print(f\"All Asian cars fuel efficiency values:\")\n",
    "print(asia_cars['fuel_efficiency_mpg'].sort_values(ascending=False).head(10))"
   ]
  },
  {
   "cell_type": "markdown",
   "id": "ed2qu0x5l3o",
   "metadata": {},
   "source": [
    "## Question 6: Median Horsepower\n",
    "\n",
    "Find the median horsepower, fill missing values with the most frequent horsepower value, and check if the median changes."
   ]
  },
  {
   "cell_type": "code",
   "execution_count": 6,
   "id": "k0v1w4dp2f",
   "metadata": {},
   "outputs": [
    {
     "name": "stdout",
     "output_type": "stream",
     "text": [
      "Dataset columns:\n",
      "['engine_displacement', 'num_cylinders', 'horsepower', 'vehicle_weight', 'acceleration', 'model_year', 'origin', 'fuel_type', 'drivetrain', 'num_doors', 'fuel_efficiency_mpg']\n",
      "\n",
      "Original median horsepower: 149.0\n",
      "Missing values in horsepower: 708\n",
      "Most frequent horsepower value: 152.0\n",
      "New median horsepower after filling: 152.0\n",
      "Original median: 149.0\n",
      "New median: 152.0\n",
      "Answer: Yes (increased)\n"
     ]
    }
   ],
   "source": [
    "# Question 6: Median horsepower analysis\n",
    "# Using the correct column name for horsepower\n",
    "\n",
    "print(\"Dataset columns:\")\n",
    "print(df.columns.tolist())\n",
    "print()\n",
    "\n",
    "# Use the correct horsepower column name\n",
    "hp_col = 'horsepower'\n",
    "\n",
    "# Step 1: Find the original median horsepower\n",
    "original_median = df[hp_col].median()\n",
    "print(f\"Original median horsepower: {original_median}\")\n",
    "\n",
    "# Check for missing values in horsepower column\n",
    "missing_hp = df[hp_col].isnull().sum()\n",
    "print(f\"Missing values in {hp_col}: {missing_hp}\")\n",
    "\n",
    "if missing_hp > 0:\n",
    "    # Step 2: Find the most frequent (mode) horsepower value\n",
    "    most_frequent_hp = df[hp_col].mode()[0]\n",
    "    print(f\"Most frequent horsepower value: {most_frequent_hp}\")\n",
    "    \n",
    "    # Step 3: Fill missing values with the most frequent value\n",
    "    df_filled = df.copy()\n",
    "    df_filled[hp_col] = df_filled[hp_col].fillna(most_frequent_hp)\n",
    "    \n",
    "    # Step 4: Calculate the new median\n",
    "    new_median = df_filled[hp_col].median()\n",
    "    print(f\"New median horsepower after filling: {new_median}\")\n",
    "    \n",
    "    # Step 5: Check if median changed\n",
    "    print(f\"Original median: {original_median}\")\n",
    "    print(f\"New median: {new_median}\")\n",
    "    \n",
    "    if new_median > original_median:\n",
    "        print(\"Answer: Yes (increased)\")\n",
    "    elif new_median < original_median:\n",
    "        print(\"Answer: Yes (decreased)\")\n",
    "    else:\n",
    "        print(\"Answer: No\")\n",
    "else:\n",
    "    print(\"No missing values found in horsepower column\")\n",
    "    print(\"Answer: No (no missing values to fill)\")"
   ]
  },
  {
   "cell_type": "markdown",
   "id": "brkbvmi8wig",
   "metadata": {},
   "source": [
    "## Question 7: Sum of Weights\n",
    "\n",
    "Complex matrix calculation involving Asian cars - compute matrix operations and calculate sum of resulting elements."
   ]
  },
  {
   "cell_type": "code",
   "execution_count": 7,
   "id": "w4lmbd5vd5",
   "metadata": {},
   "outputs": [
    {
     "name": "stdout",
     "output_type": "stream",
     "text": [
      "Number of Asian cars: 3247\n",
      "Selected columns: ['vehicle_weight', 'model_year']\n",
      "First 7 rows shape: (7, 2)\n",
      "First 7 rows:\n",
      "    vehicle_weight  model_year\n",
      "8      2714.219310        2016\n",
      "12     2783.868974        2010\n",
      "14     3582.687368        2007\n",
      "20     2231.808142        2011\n",
      "21     2659.431451        2016\n",
      "34     2844.227534        2014\n",
      "38     3761.994038        2019\n",
      "X shape: (7, 2)\n",
      "X array:\n",
      "[[2714.21930965 2016.        ]\n",
      " [2783.86897424 2010.        ]\n",
      " [3582.68736772 2007.        ]\n",
      " [2231.8081416  2011.        ]\n",
      " [2659.43145076 2016.        ]\n",
      " [2844.22753389 2014.        ]\n",
      " [3761.99403819 2019.        ]]\n",
      "XTX shape: (2, 2)\n",
      "XTX:\n",
      "[[62248334.33150762 41431216.5073268 ]\n",
      " [41431216.5073268  28373339.        ]]\n",
      "XTX inverse:\n",
      "[[ 5.71497081e-07 -8.34509443e-07]\n",
      " [-8.34509443e-07  1.25380877e-06]]\n",
      "y array: [1100 1300  800  900 1000 1100 1200]\n",
      "Result shape: (2,)\n",
      "Result (w):\n",
      "[0.01386421 0.5049067 ]\n",
      "Sum of all elements: 0.5187709081074007\n",
      "Sum rounded to 3 decimal places: 0.519\n"
     ]
    }
   ],
   "source": [
    "import numpy as np\n",
    "\n",
    "# Question 7: Matrix operations following the exact homework steps\n",
    "\n",
    "# Step 1: Select all cars from Asia\n",
    "asia_cars = df[df['origin'] == 'Asia']\n",
    "print(f\"Number of Asian cars: {len(asia_cars)}\")\n",
    "\n",
    "# Step 2: Select only the specified columns\n",
    "columns_to_select = [\"vehicle_weight\", \"model_year\"]\n",
    "X_subset = asia_cars[columns_to_select]\n",
    "print(f\"Selected columns: {columns_to_select}\")\n",
    "\n",
    "# Step 3: Select the first 7 values\n",
    "X_first_7 = X_subset.head(7)\n",
    "print(f\"First 7 rows shape: {X_first_7.shape}\")\n",
    "print(\"First 7 rows:\")\n",
    "print(X_first_7)\n",
    "\n",
    "# Step 4: Get the underlying NumPy array (call it X)\n",
    "X = X_first_7.values\n",
    "print(f\"X shape: {X.shape}\")\n",
    "print(\"X array:\")\n",
    "print(X)\n",
    "\n",
    "# Step 5: Compute matrix-matrix multiplication X.T * X (call result XTX)\n",
    "XTX = X.T @ X\n",
    "print(f\"XTX shape: {XTX.shape}\")\n",
    "print(\"XTX:\")\n",
    "print(XTX)\n",
    "\n",
    "# Step 6: Invert XTX\n",
    "XTX_inv = np.linalg.inv(XTX)\n",
    "print(\"XTX inverse:\")\n",
    "print(XTX_inv)\n",
    "\n",
    "# Step 7: Create array y with specified values\n",
    "y = np.array([1100, 1300, 800, 900, 1000, 1100, 1200])\n",
    "print(f\"y array: {y}\")\n",
    "\n",
    "# Step 8: Multiply: (XTX^-1) * X.T * y\n",
    "result = XTX_inv @ X.T @ y\n",
    "print(f\"Result shape: {result.shape}\")\n",
    "print(\"Result (w):\")\n",
    "print(result)\n",
    "\n",
    "# Step 9: Calculate the sum of all elements in the result\n",
    "sum_elements = np.sum(result)\n",
    "print(f\"Sum of all elements: {sum_elements}\")\n",
    "print(f\"Sum rounded to 3 decimal places: {sum_elements:.3f}\")"
   ]
  }
 ],
 "metadata": {
  "kernelspec": {
   "display_name": "base",
   "language": "python",
   "name": "python3"
  },
  "language_info": {
   "codemirror_mode": {
    "name": "ipython",
    "version": 3
   },
   "file_extension": ".py",
   "mimetype": "text/x-python",
   "name": "python",
   "nbconvert_exporter": "python",
   "pygments_lexer": "ipython3",
   "version": "3.12.7"
  }
 },
 "nbformat": 4,
 "nbformat_minor": 5
}