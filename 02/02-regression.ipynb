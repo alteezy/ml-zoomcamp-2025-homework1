{
 "cells": [
  {
   "cell_type": "markdown",
   "metadata": {},
   "source": [
    "# Machine Learning Zoomcamp - Homework 2: Linear Regression\n",
    "\n",
    "This notebook contains solutions to the regression homework questions from the ML Zoomcamp course."
   ]
  },
  {
   "cell_type": "code",
   "execution_count": 1,
   "metadata": {},
   "outputs": [],
   "source": [
    "import pandas as pd\n",
    "import numpy as np\n",
    "import matplotlib.pyplot as plt\n",
    "import seaborn as sns\n",
    "from scipy import stats\n",
    "from sklearn.model_selection import train_test_split\n",
    "from sklearn.linear_model import LinearRegression, Ridge\n",
    "from sklearn.metrics import mean_squared_error\n",
    "import warnings\n",
    "warnings.filterwarnings('ignore')\n",
    "\n",
    "# Set up plotting style\n",
    "plt.style.use('default')\n",
    "sns.set_palette(\"husl\")"
   ]
  },
  {
   "cell_type": "code",
   "execution_count": 2,
   "metadata": {},
   "outputs": [
    {
     "name": "stdout",
     "output_type": "stream",
     "text": [
      "Loading dataset...\n",
      "Dataset loaded successfully!\n",
      "Shape: (9704, 5)\n",
      "\n",
      "First few rows:\n",
      "   engine_displacement  horsepower  vehicle_weight  model_year  \\\n",
      "0                  170       159.0     3413.433759        2003   \n",
      "1                  130        97.0     3149.664934        2007   \n",
      "2                  170        78.0     3079.038997        2018   \n",
      "3                  220         NaN     2542.392402        2009   \n",
      "4                  210       140.0     3460.870990        2009   \n",
      "\n",
      "   fuel_efficiency_mpg  \n",
      "0            13.231729  \n",
      "1            13.688217  \n",
      "2            14.246341  \n",
      "3            16.912736  \n",
      "4            12.488369  \n",
      "\n",
      "Dataset info:\n",
      "<class 'pandas.core.frame.DataFrame'>\n",
      "RangeIndex: 9704 entries, 0 to 9703\n",
      "Data columns (total 5 columns):\n",
      " #   Column               Non-Null Count  Dtype  \n",
      "---  ------               --------------  -----  \n",
      " 0   engine_displacement  9704 non-null   int64  \n",
      " 1   horsepower           8996 non-null   float64\n",
      " 2   vehicle_weight       9704 non-null   float64\n",
      " 3   model_year           9704 non-null   int64  \n",
      " 4   fuel_efficiency_mpg  9704 non-null   float64\n",
      "dtypes: float64(3), int64(2)\n",
      "memory usage: 379.2 KB\n",
      "None\n"
     ]
    }
   ],
   "source": [
    "# Load the dataset\n",
    "print(\"Loading dataset...\")\n",
    "url = 'https://raw.githubusercontent.com/alexeygrigorev/datasets/master/car_fuel_efficiency.csv'\n",
    "df = pd.read_csv(url)\n",
    "\n",
    "# Select only the required columns\n",
    "columns_to_keep = ['engine_displacement', 'horsepower', 'vehicle_weight', 'model_year', 'fuel_efficiency_mpg']\n",
    "df = df[columns_to_keep]\n",
    "\n",
    "print(\"Dataset loaded successfully!\")\n",
    "print(f\"Shape: {df.shape}\")\n",
    "print(\"\\nFirst few rows:\")\n",
    "print(df.head())\n",
    "print(\"\\nDataset info:\")\n",
    "print(df.info())"
   ]
  },
  {
   "cell_type": "markdown",
   "metadata": {},
   "source": [
    "## Exploratory Data Analysis (EDA)\n",
    "\n",
    "Let's first explore the dataset and understand the distribution of our target variable."
   ]
  },
  {
   "cell_type": "code",
   "execution_count": 3,
   "metadata": {},
   "outputs": [
    {
     "name": "stdout",
     "output_type": "stream",
     "text": [
      "=== Target Variable Analysis: fuel_efficiency_mpg ===\n",
      "count    9704.000000\n",
      "mean       14.985243\n",
      "std         2.556468\n",
      "min         6.200971\n",
      "25%        13.267459\n",
      "50%        15.006037\n",
      "75%        16.707965\n",
      "max        25.967222\n",
      "Name: fuel_efficiency_mpg, dtype: float64\n",
      "\n",
      "Skewness: -0.012\n",
      "Mean: 14.985\n",
      "Median: 15.006\n",
      "\n",
      "✗ NO: The distribution does NOT have a significant long tail (approximately symmetric)\n"
     ]
    }
   ],
   "source": [
    "# EDA: Check if fuel_efficiency_mpg has a long tail\n",
    "print(\"=== Target Variable Analysis: fuel_efficiency_mpg ===\")\n",
    "print(df['fuel_efficiency_mpg'].describe())\n",
    "\n",
    "# Calculate skewness\n",
    "skewness = stats.skew(df['fuel_efficiency_mpg'])\n",
    "print(f\"\\nSkewness: {skewness:.3f}\")\n",
    "\n",
    "# Analyze distribution\n",
    "median = df['fuel_efficiency_mpg'].median()\n",
    "mean = df['fuel_efficiency_mpg'].mean()\n",
    "print(f\"Mean: {mean:.3f}\")\n",
    "print(f\"Median: {median:.3f}\")\n",
    "\n",
    "if abs(skewness) < 0.5:\n",
    "    print(\"\\n✗ NO: The distribution does NOT have a significant long tail (approximately symmetric)\")\n",
    "elif skewness > 0.5:\n",
    "    print(\"\\n✓ YES: The distribution has a LONG RIGHT TAIL\")\n",
    "else:\n",
    "    print(\"\\n✓ YES: The distribution has a LONG LEFT TAIL\")"
   ]
  },
  {
   "cell_type": "markdown",
   "metadata": {},
   "source": [
    "## Question 1: Missing Values\n",
    "\n",
    "Which column has missing values?"
   ]
  },
  {
   "cell_type": "code",
   "execution_count": 4,
   "metadata": {},
   "outputs": [
    {
     "name": "stdout",
     "output_type": "stream",
     "text": [
      "Missing values per column:\n",
      "engine_displacement: 0\n",
      "horsepower: 708\n",
      "vehicle_weight: 0\n",
      "model_year: 0\n",
      "fuel_efficiency_mpg: 0\n",
      "\n",
      "Column(s) with missing values: ['horsepower']\n"
     ]
    }
   ],
   "source": [
    "# Check for missing values in each column\n",
    "missing_values = df.isnull().sum()\n",
    "print(\"Missing values per column:\")\n",
    "for col in df.columns:\n",
    "    missing_count = missing_values[col]\n",
    "    print(f\"{col}: {missing_count}\")\n",
    "\n",
    "# Find which column has missing values\n",
    "columns_with_missing = missing_values[missing_values > 0]\n",
    "if len(columns_with_missing) > 0:\n",
    "    print(f\"\\nColumn(s) with missing values: {list(columns_with_missing.index)}\")\n",
    "else:\n",
    "    print(\"\\nNo missing values found in any column\")"
   ]
  },
  {
   "cell_type": "markdown",
   "metadata": {},
   "source": [
    "## Question 2: Median of Horsepower\n",
    "\n",
    "What's the median value of the 'horsepower' column?"
   ]
  },
  {
   "cell_type": "code",
   "execution_count": 5,
   "metadata": {},
   "outputs": [
    {
     "name": "stdout",
     "output_type": "stream",
     "text": [
      "Median of horsepower: 149.0\n"
     ]
    }
   ],
   "source": [
    "# Find median of horsepower\n",
    "horsepower_median = df['horsepower'].median()\n",
    "print(f\"Median of horsepower: {horsepower_median}\")"
   ]
  },
  {
   "cell_type": "markdown",
   "metadata": {},
   "source": [
    "## Question 3: Missing Value Strategy Comparison\n",
    "\n",
    "Compare the RMSE when filling missing values with 0 vs filling with the mean value."
   ]
  },
  {
   "cell_type": "code",
   "execution_count": 6,
   "metadata": {},
   "outputs": [
    {
     "name": "stdout",
     "output_type": "stream",
     "text": [
      "Mean of horsepower: 149.65729212983547\n",
      "RMSE with missing values filled with 0: 0.530\n",
      "RMSE with missing values filled with mean: 0.470\n",
      "Difference: 0.060\n"
     ]
    }
   ],
   "source": [
    "# Calculate mean of horsepower (excluding missing values)\n",
    "horsepower_mean = df['horsepower'].mean()\n",
    "print(f\"Mean of horsepower: {horsepower_mean}\")\n",
    "\n",
    "# Create two versions of the dataset\n",
    "# Version 1: Fill missing values with 0\n",
    "df_filled_0 = df.copy()\n",
    "df_filled_0['horsepower'] = df_filled_0['horsepower'].fillna(0)\n",
    "\n",
    "# Version 2: Fill missing values with mean\n",
    "df_filled_mean = df.copy()\n",
    "df_filled_mean['horsepower'] = df_filled_mean['horsepower'].fillna(horsepower_mean)\n",
    "\n",
    "# Prepare features and target for both versions\n",
    "def prepare_data(df_input):\n",
    "    X = df_input.drop('fuel_efficiency_mpg', axis=1)\n",
    "    y = df_input['fuel_efficiency_mpg']\n",
    "    return train_test_split(X, y, test_size=0.2, random_state=42)\n",
    "\n",
    "# Split data for both versions\n",
    "X_train_0, X_test_0, y_train_0, y_test_0 = prepare_data(df_filled_0)\n",
    "X_train_mean, X_test_mean, y_train_mean, y_test_mean = prepare_data(df_filled_mean)\n",
    "\n",
    "# Train linear regression models\n",
    "lr_0 = LinearRegression()\n",
    "lr_0.fit(X_train_0, y_train_0)\n",
    "y_pred_0 = lr_0.predict(X_test_0)\n",
    "rmse_0 = np.sqrt(mean_squared_error(y_test_0, y_pred_0))\n",
    "\n",
    "lr_mean = LinearRegression()\n",
    "lr_mean.fit(X_train_mean, y_train_mean)\n",
    "y_pred_mean = lr_mean.predict(X_test_mean)\n",
    "rmse_mean = np.sqrt(mean_squared_error(y_test_mean, y_pred_mean))\n",
    "\n",
    "print(f\"RMSE with missing values filled with 0: {rmse_0:.3f}\")\n",
    "print(f\"RMSE with missing values filled with mean: {rmse_mean:.3f}\")\n",
    "print(f\"Difference: {abs(rmse_0 - rmse_mean):.3f}\")"
   ]
  },
  {
   "cell_type": "markdown",
   "metadata": {},
   "source": [
    "## Question 4: Best Regularization Parameter\n",
    "\n",
    "Find the best regularization parameter (alpha) for Ridge regression using validation dataset."
   ]
  },
  {
   "cell_type": "code",
   "execution_count": 7,
   "metadata": {},
   "outputs": [
    {
     "name": "stdout",
     "output_type": "stream",
     "text": [
      "=== Question 4: Ridge Regression with different alpha values ===\n",
      "After filling NAs with 0:\n",
      "Missing values in horsepower: 0\n",
      "Dataset shape: (9704, 5)\n",
      "\n",
      "Features shape: (9704, 4)\n",
      "Target shape: (9704,)\n",
      "\n",
      "Feature columns: ['engine_displacement', 'horsepower', 'vehicle_weight', 'model_year']\n"
     ]
    }
   ],
   "source": [
    "# Question 4: Start fresh - Fill missing values with 0 for this question\n",
    "print(\"=== Question 4: Ridge Regression with different alpha values ===\")\n",
    "\n",
    "# Step 1: Fill missing values with 0\n",
    "df_q4 = df.copy()\n",
    "df_q4['horsepower'] = df_q4['horsepower'].fillna(0)\n",
    "\n",
    "print(f\"After filling NAs with 0:\")\n",
    "print(f\"Missing values in horsepower: {df_q4['horsepower'].isnull().sum()}\")\n",
    "print(f\"Dataset shape: {df_q4.shape}\")\n",
    "\n",
    "# Step 2: Prepare features and target\n",
    "X_q4 = df_q4.drop('fuel_efficiency_mpg', axis=1)\n",
    "y_q4 = df_q4['fuel_efficiency_mpg']\n",
    "\n",
    "print(f\"\\nFeatures shape: {X_q4.shape}\")\n",
    "print(f\"Target shape: {y_q4.shape}\")\n",
    "print(f\"\\nFeature columns: {list(X_q4.columns)}\")"
   ]
  },
  {
   "cell_type": "code",
   "execution_count": 8,
   "metadata": {},
   "outputs": [
    {
     "name": "stdout",
     "output_type": "stream",
     "text": [
      "Training set - Features: (7763, 4), Target: (7763,)\n",
      "Validation set - Features: (1941, 4), Target: (1941,)\n",
      "\\nMissing values in training features: 0\n",
      "Missing values in validation features: 0\n",
      "Missing values in training target: 0\n",
      "Missing values in validation target: 0\n"
     ]
    }
   ],
   "source": [
    "# Step 3: Split the data into train and validation sets\n",
    "# Note: We use validation set to evaluate different alpha values\n",
    "X_train_q4, X_val_q4, y_train_q4, y_val_q4 = train_test_split(\n",
    "    X_q4, y_q4, test_size=0.2, random_state=42\n",
    ")\n",
    "\n",
    "print(f\"Training set - Features: {X_train_q4.shape}, Target: {y_train_q4.shape}\")\n",
    "print(f\"Validation set - Features: {X_val_q4.shape}, Target: {y_val_q4.shape}\")\n",
    "\n",
    "# Verify no missing values in training and validation data\n",
    "print(f\"\\\\nMissing values in training features: {X_train_q4.isnull().sum().sum()}\")\n",
    "print(f\"Missing values in validation features: {X_val_q4.isnull().sum().sum()}\")\n",
    "print(f\"Missing values in training target: {y_train_q4.isnull().sum()}\")\n",
    "print(f\"Missing values in validation target: {y_val_q4.isnull().sum()}\")"
   ]
  },
  {
   "cell_type": "code",
   "execution_count": 9,
   "metadata": {},
   "outputs": [
    {
     "name": "stdout",
     "output_type": "stream",
     "text": [
      "Testing different r values for regularized linear regression:\n",
      "============================================================\n",
      "Model                | r (alpha)  | RMSE (Validation)\n",
      "============================================================\n",
      "Linear Regression    | 0          | 0.53           \n",
      "Ridge Regression     | 0.01       | 0.53           \n",
      "Ridge Regression     | 0.1        | 0.53           \n",
      "Ridge Regression     | 1          | 0.53           \n",
      "Ridge Regression     | 5          | 0.53           \n",
      "Ridge Regression     | 10         | 0.53           \n",
      "Ridge Regression     | 100        | 0.53           \n",
      "============================================================\n",
      "\\n🏆 BEST MODEL:\n",
      "r (alpha): 0\n",
      "RMSE (Validation): 0.53\n",
      "\\n📊 COMPARISON OF ALL MODELS:\n",
      "----------------------------------------\n",
      "r =     0: RMSE = 0.53 ← BEST\n",
      "r =  0.01: RMSE = 0.53\n",
      "r =   0.1: RMSE = 0.53\n",
      "r =     1: RMSE = 0.53\n",
      "r =     5: RMSE = 0.53\n",
      "r =    10: RMSE = 0.53\n",
      "r =   100: RMSE = 0.53\n",
      "\\n✅ ANSWER: r = 0 gives the best RMSE of 0.53\n",
      "(If multiple r values have the same RMSE, we select the smallest r)\n"
     ]
    }
   ],
   "source": [
    "# Step 4: Test different regularization parameters (r values)\n",
    "# Following the exact instructions: [0, 0.01, 0.1, 1, 5, 10, 100]\n",
    "# Evaluate models on VALIDATION dataset and round RMSE to 2 decimal places\n",
    "\n",
    "r_values = [0, 0.01, 0.1, 1, 5, 10, 100]\n",
    "rmse_scores = []\n",
    "\n",
    "print(\"Testing different r values for regularized linear regression:\")\n",
    "print(\"=\" * 60)\n",
    "print(f\"{'Model':<20} | {'r (alpha)':<10} | {'RMSE (Validation)':<15}\")\n",
    "print(\"=\" * 60)\n",
    "\n",
    "for r in r_values:\n",
    "    if r == 0:\n",
    "        # Linear Regression (no regularization)\n",
    "        model = LinearRegression()\n",
    "        model_name = \"Linear Regression\"\n",
    "    else:\n",
    "        # Ridge Regression\n",
    "        model = Ridge(alpha=r)\n",
    "        model_name = f\"Ridge Regression\"\n",
    "    \n",
    "    # Train the model on training set\n",
    "    model.fit(X_train_q4, y_train_q4)\n",
    "    \n",
    "    # Make predictions on VALIDATION set\n",
    "    y_pred_val = model.predict(X_val_q4)\n",
    "    \n",
    "    # Calculate RMSE on validation set and round to 2 decimal places\n",
    "    rmse_val = np.sqrt(mean_squared_error(y_val_q4, y_pred_val))\n",
    "    rmse_rounded = round(rmse_val, 2)\n",
    "    rmse_scores.append(rmse_rounded)\n",
    "    \n",
    "    print(f\"{model_name:<20} | {r:<10} | {rmse_rounded:<15}\")\n",
    "\n",
    "print(\"=\" * 60)\n",
    "\n",
    "# Find the best r (lowest RMSE) - if multiple options, select the smallest r\n",
    "best_rmse = min(rmse_scores)\n",
    "best_r_candidates = [r_values[i] for i, rmse in enumerate(rmse_scores) if rmse == best_rmse]\n",
    "best_r = min(best_r_candidates)  # Select smallest r if multiple options\n",
    "\n",
    "print(f\"\\\\n🏆 BEST MODEL:\")\n",
    "print(f\"r (alpha): {best_r}\")\n",
    "print(f\"RMSE (Validation): {best_rmse}\")\n",
    "\n",
    "# Show all scores for comparison\n",
    "print(f\"\\\\n📊 COMPARISON OF ALL MODELS:\")\n",
    "print(\"-\" * 40)\n",
    "for i, (r, rmse) in enumerate(zip(r_values, rmse_scores)):\n",
    "    marker = \" ← BEST\" if r == best_r else \"\"\n",
    "    print(f\"r = {r:>5}: RMSE = {rmse}{marker}\")\n",
    "\n",
    "print(f\"\\\\n✅ ANSWER: r = {best_r} gives the best RMSE of {best_rmse}\")\n",
    "print(f\"(If multiple r values have the same RMSE, we select the smallest r)\")"
   ]
  },
  {
   "cell_type": "markdown",
   "metadata": {},
   "source": [
    "## Question 5: Model Stability\n",
    "\n",
    "Assess model stability across different random seeds using 60%/20%/20% train/validation/test split.\""
   ]
  },
  {
   "cell_type": "code",
   "execution_count": 10,
   "metadata": {},
   "outputs": [
    {
     "name": "stdout",
     "output_type": "stream",
     "text": [
      "=== Question 5: Model Stability Analysis ===\n",
      "Dataset preparation:\n",
      "Shape: (9704, 5)\n",
      "Missing values after filling with 0: 0\n",
      "\\nFeatures shape: (9704, 4)\n",
      "Target shape: (9704,)\n",
      "Feature columns: ['engine_displacement', 'horsepower', 'vehicle_weight', 'model_year']\n",
      "\\nTesting with different random seeds:\n",
      "============================================================\n",
      "Seed   | Train Size | Val Size | Test Size | RMSE (Val)  \n",
      "============================================================\n",
      "0      | 5822       | 1941     | 1941      | 0.528392    \n",
      "1      | 5822       | 1941     | 1941      | 0.522328    \n",
      "2      | 5822       | 1941     | 1941      | 0.515816    \n",
      "3      | 5822       | 1941     | 1941      | 0.511901    \n",
      "4      | 5822       | 1941     | 1941      | 0.519977    \n",
      "5      | 5822       | 1941     | 1941      | 0.525629    \n",
      "6      | 5822       | 1941     | 1941      | 0.507135    \n",
      "7      | 5822       | 1941     | 1941      | 0.522171    \n",
      "8      | 5822       | 1941     | 1941      | 0.515642    \n",
      "9      | 5822       | 1941     | 1941      | 0.507455    \n",
      "============================================================\n",
      "\\n📊 RMSE SCORES ANALYSIS:\n",
      "All RMSE scores: [0.528392, 0.522328, 0.515816, 0.511901, 0.519977, 0.525629, 0.507135, 0.522171, 0.515642, 0.507455]\n",
      "Mean RMSE: 0.517645\n",
      "Standard deviation (np.std): 0.006941\n",
      "Standard deviation (rounded to 3 digits): 0.007\n",
      "\\n✅ ANSWER: Standard deviation = 0.007\n"
     ]
    }
   ],
   "source": [
    "# Question 5: Model Stability across different random seeds\n",
    "# Use different seed values with 60%/20%/20% train/validation/test split\n",
    "\n",
    "print(\"=== Question 5: Model Stability Analysis ===\")\n",
    "\n",
    "# Step 1: Prepare dataset - Fill missing values with 0\n",
    "df_q5 = df.copy()\n",
    "df_q5['horsepower'] = df_q5['horsepower'].fillna(0)\n",
    "\n",
    "print(f\"Dataset preparation:\")\n",
    "print(f\"Shape: {df_q5.shape}\")\n",
    "print(f\"Missing values after filling with 0: {df_q5.isnull().sum().sum()}\")\n",
    "\n",
    "# Step 2: Prepare features and target\n",
    "X_q5 = df_q5.drop('fuel_efficiency_mpg', axis=1)\n",
    "y_q5 = df_q5['fuel_efficiency_mpg']\n",
    "\n",
    "print(f\"\\\\nFeatures shape: {X_q5.shape}\")\n",
    "print(f\"Target shape: {y_q5.shape}\")\n",
    "print(f\"Feature columns: {list(X_q5.columns)}\")\n",
    "\n",
    "# Step 3: Test different seed values with train/validation/test split\n",
    "seeds = [0, 1, 2, 3, 4, 5, 6, 7, 8, 9]\n",
    "rmse_scores = []\n",
    "\n",
    "print(f\"\\\\nTesting with different random seeds:\")\n",
    "print(\"=\" * 60)\n",
    "print(f\"{'Seed':<6} | {'Train Size':<10} | {'Val Size':<8} | {'Test Size':<9} | {'RMSE (Val)':<12}\")\n",
    "print(\"=\" * 60)\n",
    "\n",
    "for seed in seeds:\n",
    "    # First split: separate test set (20%)\n",
    "    X_temp, X_test, y_temp, y_test = train_test_split(\n",
    "        X_q5, y_q5, test_size=0.2, random_state=seed\n",
    "    )\n",
    "    \n",
    "    # Second split: from remaining 80%, split into train (60% of total) and validation (20% of total)\n",
    "    # 60%/80% = 0.75 for train from the remaining data\n",
    "    X_train, X_val, y_train, y_val = train_test_split(\n",
    "        X_temp, y_temp, test_size=0.25, random_state=seed  # 0.25 * 0.8 = 0.2 (20% of total)\n",
    "    )\n",
    "    \n",
    "    # Train Linear Regression model (no regularization)\n",
    "    model = LinearRegression()\n",
    "    model.fit(X_train, y_train)\n",
    "    \n",
    "    # Evaluate on VALIDATION dataset\n",
    "    y_pred_val = model.predict(X_val)\n",
    "    rmse_val = np.sqrt(mean_squared_error(y_val, y_pred_val))\n",
    "    rmse_scores.append(rmse_val)\n",
    "    \n",
    "    print(f\"{seed:<6} | {len(X_train):<10} | {len(X_val):<8} | {len(X_test):<9} | {rmse_val:<12.6f}\")\n",
    "\n",
    "print(\"=\" * 60)\n",
    "\n",
    "# Step 4: Calculate standard deviation\n",
    "std_rmse = np.std(rmse_scores)\n",
    "std_rounded = round(std_rmse, 3)\n",
    "\n",
    "print(f\"\\\\n📊 RMSE SCORES ANALYSIS:\")\n",
    "print(f\"All RMSE scores: {[round(score, 6) for score in rmse_scores]}\")\n",
    "print(f\"Mean RMSE: {np.mean(rmse_scores):.6f}\")\n",
    "print(f\"Standard deviation (np.std): {std_rmse:.6f}\")\n",
    "print(f\"Standard deviation (rounded to 3 digits): {std_rounded}\")\n",
    "\n",
    "print(f\"\\\\n✅ ANSWER: Standard deviation = {std_rounded}\")"
   ]
  },
  {
   "cell_type": "code",
   "execution_count": 11,
   "metadata": {},
   "outputs": [
    {
     "name": "stdout",
     "output_type": "stream",
     "text": [
      "=== Question 6: Final Model with Combined Training Data ===\n",
      "Dataset preparation:\n",
      "Shape: (9704, 5)\n",
      "Missing values after filling with 0: 0\n",
      "\n",
      "Features shape: (9704, 4)\n",
      "Target shape: (9704,)\n",
      "\n",
      "Data split with seed 9:\n",
      "Training set: (5822, 4)\n",
      "Validation set: (1941, 4)\n",
      "Test set: (1941, 4)\n",
      "\n",
      "Combined training data:\n",
      "Features: (7763, 4)\n",
      "Target: (7763,)\n",
      "\n",
      "Model training:\n",
      "Model: Ridge Regression with alpha=0.001\n",
      "Training set size: 7763\n",
      "\n",
      "📊 RESULTS:\n",
      "RMSE on test dataset: 0.521034\n",
      "RMSE rounded to 3 decimals: 0.521\n",
      "\n",
      "✅ ANSWER: RMSE = 0.521\n",
      "Closest option: 0.515\n"
     ]
    }
   ],
   "source": [
    "# Question 6: Final model with combined train+validation data\n",
    "# Following exact instructions: use seed 9, combine train+validation, fill with 0, use r=0.001\n",
    "\n",
    "print(\"=== Question 6: Final Model with Combined Training Data ===\")\n",
    "\n",
    "# Step 1: Prepare dataset - Fill missing values with 0\n",
    "df_q6 = df.copy()\n",
    "df_q6['horsepower'] = df_q6['horsepower'].fillna(0)\n",
    "\n",
    "print(f\"Dataset preparation:\")\n",
    "print(f\"Shape: {df_q6.shape}\")\n",
    "print(f\"Missing values after filling with 0: {df_q6['horsepower'].isnull().sum()}\")\n",
    "\n",
    "# Step 2: Prepare features and target\n",
    "X_q6 = df_q6.drop('fuel_efficiency_mpg', axis=1)\n",
    "y_q6 = df_q6['fuel_efficiency_mpg']\n",
    "\n",
    "print(f\"\\nFeatures shape: {X_q6.shape}\")\n",
    "print(f\"Target shape: {y_q6.shape}\")\n",
    "\n",
    "# Step 3: Split dataset like previously with seed 9 (60%/20%/20%)\n",
    "# First split: separate test set (20%)\n",
    "X_temp, X_test, y_temp, y_test = train_test_split(\n",
    "    X_q6, y_q6, test_size=0.2, random_state=9\n",
    ")\n",
    "\n",
    "# Second split: from remaining 80%, split into train (60% of total) and validation (20% of total)\n",
    "X_train, X_val, y_train, y_val = train_test_split(\n",
    "    X_temp, y_temp, test_size=0.25, random_state=9  # 0.25 * 0.8 = 0.2 (20% of total)\n",
    ")\n",
    "\n",
    "print(f\"\\nData split with seed 9:\")\n",
    "print(f\"Training set: {X_train.shape}\")\n",
    "print(f\"Validation set: {X_val.shape}\")\n",
    "print(f\"Test set: {X_test.shape}\")\n",
    "\n",
    "# Step 4: Combine train and validation datasets\n",
    "X_train_combined = pd.concat([X_train, X_val], axis=0)\n",
    "y_train_combined = pd.concat([y_train, y_val], axis=0)\n",
    "\n",
    "print(f\"\\nCombined training data:\")\n",
    "print(f\"Features: {X_train_combined.shape}\")\n",
    "print(f\"Target: {y_train_combined.shape}\")\n",
    "\n",
    "# Step 5: Train model with r=0.001 (Ridge Regression)\n",
    "model_q6 = Ridge(alpha=0.001)\n",
    "model_q6.fit(X_train_combined, y_train_combined)\n",
    "\n",
    "print(f\"\\nModel training:\")\n",
    "print(f\"Model: Ridge Regression with alpha=0.001\")\n",
    "print(f\"Training set size: {len(X_train_combined)}\")\n",
    "\n",
    "# Step 6: Evaluate on test dataset\n",
    "y_pred_test = model_q6.predict(X_test)\n",
    "rmse_test = np.sqrt(mean_squared_error(y_test, y_pred_test))\n",
    "\n",
    "print(f\"\\n📊 RESULTS:\")\n",
    "print(f\"RMSE on test dataset: {rmse_test:.6f}\")\n",
    "print(f\"RMSE rounded to 3 decimals: {rmse_test:.3f}\")\n",
    "\n",
    "print(f\"\\n✅ ANSWER: RMSE = {rmse_test:.3f}\")\n",
    "\n",
    "# Check which option it matches\n",
    "options = [0.15, 0.515, 5.15, 51.5]\n",
    "closest_option = min(options, key=lambda x: abs(x - rmse_test))\n",
    "print(f\"Closest option: {closest_option}\")"
   ]
  }
 ],
 "metadata": {
  "kernelspec": {
   "display_name": "base",
   "language": "python",
   "name": "python3"
  },
  "language_info": {
   "codemirror_mode": {
    "name": "ipython",
    "version": 3
   },
   "file_extension": ".py",
   "mimetype": "text/x-python",
   "name": "python",
   "nbconvert_exporter": "python",
   "pygments_lexer": "ipython3",
   "version": "3.12.7"
  }
 },
 "nbformat": 4,
 "nbformat_minor": 4
}
